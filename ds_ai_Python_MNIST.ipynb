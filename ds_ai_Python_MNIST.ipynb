{
 "cells": [
  {
   "cell_type": "markdown",
   "metadata": {
    "id": "DIgU92IGpr4H"
   },
   "source": [
    "# Test for DS/AI class"
   ]
  },
  {
   "cell_type": "markdown",
   "metadata": {
    "id": "Fdbv-aIwp71w"
   },
   "source": [
    "========================================================\n",
    "### 1. Server spec!"
   ]
  },
  {
   "cell_type": "code",
   "execution_count": null,
   "metadata": {
    "id": "FKwzsXJFp0hi"
   },
   "outputs": [],
   "source": [
    "from tensorflow.python.client import device_lib\n",
    "device_lib.list_local_devices()"
   ]
  },
  {
   "cell_type": "markdown",
   "metadata": {
    "id": "zORiizGLA5-C"
   },
   "source": [
    "========================================================\n",
    "### 2. OS 확인하기!"
   ]
  },
  {
   "cell_type": "code",
   "execution_count": null,
   "metadata": {
    "id": "qZVPJTxLrLor"
   },
   "outputs": [],
   "source": [
    "import platform\n",
    "platform.platform()"
   ]
  },
  {
   "cell_type": "markdown",
   "metadata": {
    "id": "q-ogYaBrB0iT"
   },
   "source": [
    "========================================================\n",
    "### 3. Say Hello!"
   ]
  },
  {
   "cell_type": "code",
   "execution_count": null,
   "metadata": {
    "id": "c9NxzLBqrRUp"
   },
   "outputs": [],
   "source": [
    "# write hello world!\n",
    "print('hello world!!!')"
   ]
  },
  {
   "cell_type": "markdown",
   "metadata": {
    "id": "WtdijGg_B9Ad"
   },
   "source": [
    "========================================================\n",
    "### 4. NumPy의 array\n",
    "행렬, 벡터 표현"
   ]
  },
  {
   "cell_type": "code",
   "execution_count": null,
   "metadata": {
    "id": "sVGDPKw6AkcP"
   },
   "outputs": [],
   "source": [
    "import numpy as np\n",
    "x = np.array([[1,2,3], [4,5,6]])\n",
    "print(\"x=\\n{}\".format(x))\n",
    "\n",
    "y = np.array([[1,2,3], [4,5,6]])\n",
    "print(\"y=\\n{}\".format(y))\n",
    "\n",
    "x=np.asmatrix([[1,2,3], [4,5,6]])  # 파이썬이 행렬 형식으로 인식\n",
    "y=np.asmatrix([[1,2,3], [4,5,6]])\n",
    "\n",
    "print(x+y)\n",
    "\n",
    "x*np.transpose(y)"
   ]
  },
  {
   "cell_type": "markdown",
   "metadata": {
    "id": "Za3cFX4XCS0J"
   },
   "source": [
    "========================================================\n",
    "### 5. matplotlib 그래프 그리기"
   ]
  },
  {
   "cell_type": "code",
   "execution_count": null,
   "metadata": {
    "id": "BO_HpV1gwERh"
   },
   "outputs": [],
   "source": [
    "%matplotlib inline\n",
    "\n",
    "import numpy as np\n",
    "import matplotlib.pyplot as plt\n",
    "\n",
    "x = np.linspace(-10, 10, 100)  # -10 에서 10 까지의 구간을 100 등분 한다\n",
    "\n",
    "y = np.sin(x)\n",
    "\n",
    "plt.plot(x, y)"
   ]
  },
  {
   "cell_type": "markdown",
   "metadata": {
    "id": "2_1e__FlChnk"
   },
   "source": [
    "========================================================\n",
    "### 6. pandas 테이블 데이터 처리"
   ]
  },
  {
   "cell_type": "code",
   "execution_count": null,
   "metadata": {
    "id": "a5e3EJYr2qpn"
   },
   "outputs": [],
   "source": [
    "import pandas as pd\n",
    "data = {\"Name\" : ['Kim', 'Lee', 'Park'],\n",
    "          \"Location\" : ['Seoul', 'Busan', 'Deagu'],\n",
    "           \"Age\" : [24, 13, 50,]}\n",
    "data_pandas = pd.DataFrame(data)\n",
    "display(data_pandas)"
   ]
  },
  {
   "cell_type": "markdown",
   "metadata": {
    "id": "GaJBhFUtC0k-"
   },
   "source": [
    "========================================================\n",
    "### 7. MNIST 숫자 손글씨 인식\n",
    "인공신경망으로! "
   ]
  },
  {
   "cell_type": "code",
   "execution_count": null,
   "metadata": {
    "id": "SZBmSBO9skY5"
   },
   "outputs": [],
   "source": [
    "import csv as csv\n",
    "import numpy as np\n",
    "import pandas as pd\n",
    "from sklearn.neural_network import MLPClassifier\n",
    "from sklearn.metrics import accuracy_score\n",
    "from sklearn.model_selection import train_test_split"
   ]
  },
  {
   "cell_type": "markdown",
   "metadata": {
    "id": "gUqLnjWZDHcs"
   },
   "source": [
    "7.1 데이터 업로드 후 데이터 확인"
   ]
  },
  {
   "cell_type": "code",
   "execution_count": null,
   "metadata": {
    "id": "o16oKkAJsyQM"
   },
   "outputs": [],
   "source": [
    "from subprocess import check_output\n",
    "print(check_output([\"ls\", \"../content/.\"]).decode(\"utf8\"))  # 리눅스 ls 명령어 사용"
   ]
  },
  {
   "cell_type": "markdown",
   "metadata": {
    "id": "nLbxf_BVDYUb"
   },
   "source": [
    "7.2 pandas 활용 데이터 구조 관찰하기\n",
    "\n",
    "head() 메서드 활용! "
   ]
  },
  {
   "cell_type": "code",
   "execution_count": null,
   "metadata": {
    "id": "sXgu6PdZATif"
   },
   "outputs": [],
   "source": [
    "import csv as csv\n",
    "import pandas as pd\n",
    "\n",
    "train_df = pd.read_csv(\"../content/train.csv\",header=0)    # find the directory where the data exists.\n",
    "train_df.head()\n"
   ]
  },
  {
   "cell_type": "markdown",
   "metadata": {
    "id": "IX0xYBuFEB-Q"
   },
   "source": [
    "7.3 인공신경망으로 학습 후 학습된 모델 저장하기!"
   ]
  },
  {
   "cell_type": "code",
   "execution_count": null,
   "metadata": {
    "id": "ndNAPoSs_R_u"
   },
   "outputs": [],
   "source": [
    "import csv as csv\n",
    "import numpy as np\n",
    "import pandas as pd\n",
    "from sklearn.neural_network import MLPClassifier\n",
    "from sklearn.metrics import accuracy_score\n",
    "from sklearn.model_selection import train_test_split\n",
    "import pickle\n",
    "\n",
    "################################################################################\n",
    "# 1. Data load and organization\n",
    "train_df = pd.read_csv(\"../content/train.csv\",header=0)     # find the directory where the data exists.\n",
    "print(train_df.shape)\n",
    "\n",
    "train_data = train_df.values\n",
    "# data size 확인하기\n",
    "print(train_data[0::,0].shape)\n",
    "print(train_data[0::,1::].shape)\n",
    "\n",
    "X_train, X_test, y_train, y_test = train_test_split(train_data[0::,1::], train_data[0::,0], test_size=0.2, random_state=0)\n",
    "\n",
    "# show an image\n",
    "print(\"Image of a MNIST handwrite digit\")\n",
    "plt.imshow(np.reshape(X_train[8,::],(28,28)))\n",
    "\n",
    "\n",
    "################################################################################\n",
    "# 2. MLP learning\n",
    "clf = MLPClassifier(solver='sgd')  # clf  : (설명보기: 스페이스바) MLPClassifier 클래스의 객체\n",
    "clf.fit(X_train, y_train)   # train!\n",
    "neural_output = clf.predict(X_test) # 테스트 데이터의 input data를 입력해주면 output label을 예측한다 \n",
    "print(\"sgd\")\n",
    "print(accuracy_score(y_test, neural_output)) # 데스트 데이터의 output label과 비교해서 정확도를 산출해준다\n",
    "\n",
    "\n",
    "################################################################################\n",
    "# 3. save the model to disk \n",
    "filename = 'finalized_model.sav'\n",
    "pickle.dump(clf, open(filename, 'wb'))  # pickle 패키지를 사용\n",
    "\n",
    "\n",
    "################################################################################\n",
    "# 4. save the predicted output label \n",
    "output = neural_output\n",
    "predictions_file = open(\"neural_output.csv\", \"w\")\n",
    "open_file_object = csv.writer(predictions_file)\n",
    "ids = range(neural_output.__len__())\n",
    "ids = [x+1 for x in ids]\n",
    "open_file_object.writerow([\"ImageId\", \"Label\"])\n",
    "open_file_object.writerows(zip(ids, output))\n",
    "predictions_file.close()\n",
    "print('Saved \"neural_output\" to file.')\n",
    "\n",
    "\n",
    "\n"
   ]
  },
  {
   "cell_type": "markdown",
   "metadata": {
    "id": "3zOTBH7KEcRS"
   },
   "source": [
    "7.4 저장한 모델 다시 불러와서 적용하기!"
   ]
  },
  {
   "cell_type": "code",
   "execution_count": null,
   "metadata": {
    "id": "gxsFIxuZVQXJ"
   },
   "outputs": [],
   "source": [
    "import csv as csv\n",
    "import numpy as np\n",
    "import pandas as pd\n",
    "from sklearn.neural_network import MLPClassifier\n",
    "from sklearn.metrics import accuracy_score\n",
    "from sklearn.model_selection import train_test_split\n",
    "import pickle\n",
    "\n",
    "train_df = pd.read_csv(\"../content/train.csv\",header=0)   # find the directory where the data exists.\n",
    "train_data = train_df.values\n",
    "\n",
    "X_train, X_test, y_train, y_test = train_test_split(train_data[0::,1::], train_data[0::,0], test_size=0.2, random_state=0)\n",
    "\n",
    "\n",
    "################################################################################\n",
    "# load the model from disk\n",
    "filename = 'finalized_model.sav'\n",
    "loaded_model = pickle.load(open(filename, 'rb'))\n",
    "# predict by saved model\n",
    "neural_output = loaded_model.predict(X_test)\n",
    "print(\"sgd_from_saved_model\")\n",
    "print(accuracy_score(y_test, neural_output))\n",
    "\n"
   ]
  },
  {
   "cell_type": "markdown",
   "metadata": {
    "id": "wl5JJG3GEzde"
   },
   "source": [
    "7.5 MNIST로 학습한 모델 불러와서 자신의 숫자 손글씨 쓰기에 적용하기!"
   ]
  },
  {
   "cell_type": "code",
   "execution_count": null,
   "metadata": {
    "id": "SYntD5oUjjgs"
   },
   "outputs": [],
   "source": [
    "import csv as csv\n",
    "import numpy as np\n",
    "import pandas as pd\n",
    "from sklearn.neural_network import MLPClassifier\n",
    "from sklearn.metrics import accuracy_score\n",
    "from sklearn.model_selection import train_test_split\n",
    "import pickle\n",
    "from PIL import Image\n",
    "import matplotlib.pyplot as plt\n",
    "\n",
    "################################################################################\n",
    "# 1. my handwriting image loading\n",
    "im = plt.imread('../content/num2__.jpg')    # find the directory where the data exists.\n",
    "im = im[:,:,1] \n",
    "#im = im.astype('float32') / 255.\n",
    "im = im.astype('float32')\n",
    "\n",
    "\n",
    "im = np.array(im)\n",
    "im = - im + 1\n",
    "plt.imshow(im)  # show the image\n",
    "\n",
    "print(im.size)\n",
    "\n",
    "################################################################################\n",
    "# 2. load the model from disk\n",
    "filename = 'finalized_model.sav'\n",
    "loaded_model = pickle.load(open(filename, 'rb'))\n",
    "# print(np.reshape(im, (-1, 28*28)).size)\n",
    "neural_output = loaded_model.predict(np.reshape(im, (-1,28*28)))\n",
    "print(\"Infer handwrite digit\")\n",
    "print(\"Prediction:\", neural_output)\n"
   ]
  },
  {
   "cell_type": "markdown",
   "metadata": {
    "id": "tXGZLCjBXXIp"
   },
   "source": [
    "========================================================\n",
    "### 8. 과제\n"
   ]
  },
  {
   "cell_type": "code",
   "execution_count": null,
   "metadata": {
    "id": "aTEKQv6YWs8d"
   },
   "outputs": [],
   "source": [
    "################################################################################\n",
    "# Assignment\n",
    "\n",
    "import csv as csv\n",
    "import numpy as np\n",
    "import pandas as pd\n",
    "from sklearn.neural_network import MLPClassifier\n",
    "from sklearn.metrics import accuracy_score\n",
    "from sklearn.model_selection import train_test_split\n",
    "import pickle\n",
    "from PIL import Image\n",
    "import matplotlib.pyplot as plt\n",
    "\n",
    "\n",
    "train_df = pd.read_csv(\"../content/train.csv\",header=0)    # find the directory where the data exists.\n",
    "train_data = train_df.values\n",
    "X_train, X_test, y_train, y_test = train_test_split(train_data[0::,1::], train_data[0::,0], test_size=0.2, random_state=0)\n",
    "\n",
    "################################################################################\n",
    "# 1. 자신의 Name / Faculty / Student Number pandas로 출력하기\n",
    "# Name / Faculty / Student Number\n",
    "\n",
    "\n",
    "################################################################################\n",
    "# 2. size of train data (X_train 와 y_train) 출력하기\n",
    "\n",
    "\n",
    "################################################################################\n",
    "# 3. size of test data (X_test 와 y_test) 출력하기\n",
    "\n",
    "\n",
    "################################################################################\n",
    "# 4. 학습된 모델 불러와서 X_test, y_test 중에서 10개의 데이터에 대해서 모델값을 예측하고 정확도 산출하기 \n",
    "\n",
    "# load the model from disk\n",
    "\n",
    "# predict by saved model\n",
    "\n"
   ]
  }
 ],
 "metadata": {
  "accelerator": "GPU",
  "colab": {
   "collapsed_sections": [],
   "name": "ds_ai_Python_MNIST_교수용.ipynb",
   "private_outputs": true,
   "provenance": []
  },
  "kernelspec": {
   "display_name": "Python 3",
   "language": "python",
   "name": "python3"
  },
  "language_info": {
   "codemirror_mode": {
    "name": "ipython",
    "version": 3
   },
   "file_extension": ".py",
   "mimetype": "text/x-python",
   "name": "python",
   "nbconvert_exporter": "python",
   "pygments_lexer": "ipython3",
   "version": "3.8.10"
  }
 },
 "nbformat": 4,
 "nbformat_minor": 1
}

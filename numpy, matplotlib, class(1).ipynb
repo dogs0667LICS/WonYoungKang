{
 "cells": [
  {
   "cell_type": "markdown",
   "metadata": {},
   "source": [
    "# 배열"
   ]
  },
  {
   "cell_type": "code",
   "execution_count": 71,
   "metadata": {},
   "outputs": [],
   "source": [
    "import numpy as np"
   ]
  },
  {
   "cell_type": "code",
   "execution_count": 47,
   "metadata": {},
   "outputs": [],
   "source": [
    "a=np.zeros([3,2])"
   ]
  },
  {
   "cell_type": "code",
   "execution_count": 48,
   "metadata": {},
   "outputs": [
    {
     "name": "stdout",
     "output_type": "stream",
     "text": [
      "[[0. 0.]\n",
      " [0. 0.]\n",
      " [0. 0.]]\n"
     ]
    }
   ],
   "source": [
    "a\n",
    "print(a)"
   ]
  },
  {
   "cell_type": "code",
   "execution_count": 49,
   "metadata": {},
   "outputs": [],
   "source": [
    "a[0,0]=1\n",
    "a[0,1]=2\n",
    "\n",
    "a[1,0]=3\n",
    "a[1,1]=4\n",
    "\n",
    "a[2,0]=5\n",
    "a[2,1]=6"
   ]
  },
  {
   "cell_type": "code",
   "execution_count": 50,
   "metadata": {},
   "outputs": [
    {
     "name": "stdout",
     "output_type": "stream",
     "text": [
      "[[1. 2.]\n",
      " [3. 4.]\n",
      " [5. 6.]]\n"
     ]
    }
   ],
   "source": [
    "print(a)"
   ]
  },
  {
   "cell_type": "code",
   "execution_count": 60,
   "metadata": {},
   "outputs": [
    {
     "name": "stdout",
     "output_type": "stream",
     "text": [
      "[[ 1. 19.]\n",
      " [ 3.  4.]\n",
      " [ 5.  6.]]\n",
      "<class 'numpy.float64'>\n",
      "v's type: <class 'numpy.float64'>\n"
     ]
    }
   ],
   "source": [
    "a[0,]=(1,19) # 변수 초기화 시에 괄호, 대괄호 다 된다.\n",
    "print(a)\n",
    "type(a)\n",
    "\n",
    "#출력시 원소 하나에 접근하면 실수의 형태로 나온다.\n",
    "print(type(a[1,1]))\n",
    "#or\n",
    "v=a[0,1]\n",
    "print(\"v's type: \"+str(type(v)))  #뭐 원소를 밖으로 빼서 저장해도 그냥 float가 되지는 않는다."
   ]
  },
  {
   "cell_type": "code",
   "execution_count": 52,
   "metadata": {},
   "outputs": [
    {
     "data": {
      "text/plain": [
       "numpy.ndarray"
      ]
     },
     "execution_count": 52,
     "metadata": {},
     "output_type": "execute_result"
    }
   ],
   "source": [
    "#a[]=[(1,2),(2,3),(4,5)] \n",
    "#그러나 전체 초기화는 안되는 듯 하다.(대괄호든 소괄호든) 그래서 a= 의 꼴로 하면 type가 numpy 배열아 아닌 다른 형태로 바뀐다.\n",
    "#a=[(1,2),(2,3),(4,5)]\n",
    "#a=((1,2),(2,3),(4,5)) \n",
    "type(a)"
   ]
  },
  {
   "cell_type": "markdown",
   "metadata": {},
   "source": [
    "# 배열 시각화"
   ]
  },
  {
   "cell_type": "code",
   "execution_count": 63,
   "metadata": {},
   "outputs": [],
   "source": [
    "import matplotlib.pyplot as plt"
   ]
  },
  {
   "cell_type": "code",
   "execution_count": 70,
   "metadata": {},
   "outputs": [
    {
     "data": {
      "text/plain": [
       "<matplotlib.image.AxesImage at 0x51521a02b0>"
      ]
     },
     "execution_count": 70,
     "metadata": {},
     "output_type": "execute_result"
    },
    {
     "data": {
      "image/png": "[encoded data removed]",
      "text/plain": [
       "<Figure size 432x288 with 1 Axes>"
      ]
     },
     "metadata": {
      "needs_background": "light"
     },
     "output_type": "display_data"
    }
   ],
   "source": [
    "plt.imshow(a)\n",
    "#plt.imshow(a,interpolation=\"nearest\")\n",
    "#위 아래거 뭔 차이임...? 책에서는 아래것 사용"
   ]
  },
  {
   "cell_type": "markdown",
   "metadata": {},
   "source": [
    "## npy 파일 만들기 (배열 저장하기)"
   ]
  },
  {
   "cell_type": "code",
   "execution_count": 1,
   "metadata": {},
   "outputs": [
    {
     "name": "stdout",
     "output_type": "stream",
     "text": [
      "[[1 2]\n",
      " [3 4]]\n"
     ]
    }
   ],
   "source": [
    "import numpy as np\n",
    " \n",
    "x = np.array([[1, 2], [3, 4]])\n",
    " \n",
    "print(x)\n",
    " \n",
    "np.save('./saved_x', x)"
   ]
  },
  {
   "cell_type": "code",
   "execution_count": null,
   "metadata": {},
   "outputs": [],
   "source": [
    "# 파일로 저장하기 위한 배열을 생성합니다.\n",
    "numbers = np.zeros((10,4))\n",
    "for i in range(10):\n",
    "    for j in range(4):\n",
    "        numbers[i][j] = random.randint(1000,40000)\n",
    "# npy 형태로 저장\n",
    "np.save(“npy_test”, arr=numbers)"
   ]
  },
  {
   "cell_type": "markdown",
   "metadata": {},
   "source": [
    "## npy 파일 불러오기 (배열 읽어오기)"
   ]
  },
  {
   "cell_type": "code",
   "execution_count": 2,
   "metadata": {},
   "outputs": [
    {
     "name": "stdout",
     "output_type": "stream",
     "text": [
      "[[1 2]\n",
      " [3 4]]\n"
     ]
    }
   ],
   "source": [
    "import numpy as np\n",
    " \n",
    "loaded_x = np.load('./saved_x.npy')\n",
    " \n",
    "print(loaded_x)"
   ]
  },
  {
   "cell_type": "code",
   "execution_count": null,
   "metadata": {},
   "outputs": [],
   "source": [
    "# npy 파일 읽기\n",
    "npy_array = np.load(file=\"npy_test.npy\")\n",
    "npy_array[:5]"
   ]
  },
  {
   "cell_type": "code",
   "execution_count": null,
   "metadata": {},
   "outputs": [],
   "source": []
  },
  {
   "cell_type": "markdown",
   "metadata": {},
   "source": [
    "## savetxt - 파일 저장하기"
   ]
  },
  {
   "cell_type": "code",
   "execution_count": null,
   "metadata": {},
   "outputs": [],
   "source": [
    "numpy.savetxt( filename, X, fmt='%.18e', delimiter=' ', \n",
    "\tnewline='n', header='', footer='', comment='#', encoding=None)"
   ]
  },
  {
   "cell_type": "code",
   "execution_count": null,
   "metadata": {},
   "outputs": [],
   "source": [
    "numpy.savetxt({파일이름}, {데이터}, fmt={데이터 형식}, delimiter={데이터간 구분자})"
   ]
  },
  {
   "cell_type": "code",
   "execution_count": null,
   "metadata": {},
   "outputs": [],
   "source": [
    "import numpy as np\n",
    "import random\n",
    "\n",
    "# 파일로 저장하기 위한 배열을 생성합니다.\n",
    "numbers = np.zeros((10,4))\n",
    "for i in range(10):\n",
    "    for j in range(4):\n",
    "        numbers[i][j] = random.randint(1000,40000)\n",
    "# 숫자는 랜덤으로 나오기 때문에 출력할때마다 달라집니다.\n",
    "print(numbers)"
   ]
  },
  {
   "cell_type": "code",
   "execution_count": null,
   "metadata": {},
   "outputs": [],
   "source": [
    "# 파일로 저장하기\n",
    "np.savetxt(\"save.txt\", numbers, fmt='%d', delimiter=',')"
   ]
  },
  {
   "cell_type": "markdown",
   "metadata": {},
   "source": [
    "## loadtxt - csv, txt 등 파일 읽기 "
   ]
  },
  {
   "cell_type": "code",
   "execution_count": null,
   "metadata": {},
   "outputs": [],
   "source": [
    "numpy.loadtxt(fname, dtype=<class 'float', comments='#', delimiter=' ', \n",
    "\t\t\tconerters=None, skiprows=0, usecols=None, unpack=False, ndmin=0, \n",
    "            encoding='bytes', max_rows=None>"
   ]
  },
  {
   "cell_type": "code",
   "execution_count": null,
   "metadata": {},
   "outputs": [],
   "source": [
    "numpy.loadtxt({파일 이름}, delimiter=\",\")"
   ]
  },
  {
   "cell_type": "code",
   "execution_count": null,
   "metadata": {},
   "outputs": [],
   "source": [
    "a = np.loadtxt(\"save.txt\", delimiter=\",\")\n",
    "a"
   ]
  },
  {
   "cell_type": "code",
   "execution_count": null,
   "metadata": {},
   "outputs": [],
   "source": []
  },
  {
   "cell_type": "code",
   "execution_count": null,
   "metadata": {},
   "outputs": [],
   "source": []
  },
  {
   "cell_type": "code",
   "execution_count": null,
   "metadata": {},
   "outputs": [],
   "source": []
  },
  {
   "cell_type": "code",
   "execution_count": null,
   "metadata": {},
   "outputs": [],
   "source": []
  },
  {
   "cell_type": "markdown",
   "metadata": {},
   "source": [
    "# 클래스와 객체"
   ]
  },
  {
   "cell_type": "markdown",
   "metadata": {},
   "source": [
    "클래스는 붕어빵 틀이고 객체는 그 붕어빵 틀로 구워낸 붕어빵을 의미한다.(ㅋㅋㅋㅋ 이 설명 엄청 싫어했는데.. 이것 이외에 딱히 사용가능한 설명이 없네)\n",
    "\n",
    "클래스는 함수들을 포함한다. \n",
    "그리고 클래스를 실제로 사용하기 위해 필요한 것이 객체이다. 객체에 클래스가 할당되고, 그러면 하나의 클래스를 객체를 통해 사용할 수 있는 것이다.\n",
    "그리고 이 객체는 클래스를 활용한 모든 형태를 의미하고, 클래스의 각 사용을 위한 개념은 인스턴스(instance : 사례, 경우 의 의미)다. \n",
    "즉 인스턴스는 클래스를 상황에 맞게 사용한 각각의 것을 의미하고, 객체는 인스턴스를 추상화시켜서 총체적으로 말하는 것이다. "
   ]
  },
  {
   "cell_type": "code",
   "execution_count": 73,
   "metadata": {},
   "outputs": [
    {
     "name": "stdout",
     "output_type": "stream",
     "text": [
      "월월~~\n"
     ]
    }
   ],
   "source": [
    "class Dog:\n",
    "    def walwal(self): \n",
    "        #월월.. 이때 self는 이 함수가 Dog 클래스 안에 속한다는 것(그래서 어느 객체에 연결해줘야 하는지 알려준다.)을 의미한다.(사용되는 미유를 모르겠음, 비효율적이다..)\n",
    "        print(\"월월~~\")\n",
    "\n",
    "sarangA = Dog() \n",
    "# 객체 초기화, 이는 객체라고 할 수있으며(아직 실제적으로 상황에 맞게 사용하지 않음, 동시에 인스턴스 이다.) \n",
    "# 이렇게 하여 sarangA에 Dog class가 할당된다. 그리고 이 객체에 접근함으로써 class를 사용가능하다.\n",
    "# 클래스의 인스턴스를 생성한다\n",
    "sarangA.walwal() #객체에 접근해서 클래스를 사용한 예제\n",
    "#이제부터는 인스턴스이다. 이를 부르는 방법은 \n",
    "#인스턴스의 일반화 : 객체\n",
    "# 클래스의 함수, 객체의 함수를 메서드(method) 라고 부른다.\n",
    "#https://gmlwjd9405.github.io/2018/09/17/class-object-instance.html 참고하자. 개념이 어렵네\n",
    "#nop!! https://wikidocs.net/28이거 참고하기, 위에 개념 싹다 다시 공부하자. 다 틀린 듯 하다.\n",
    "#우리는 이 객체를 하나의 신경망으로 사용한다."
   ]
  },
  {
   "cell_type": "code",
   "execution_count": 91,
   "metadata": {},
   "outputs": [],
   "source": [
    "class dog:\n",
    "    def __init__(self,petname,temp):  #init는 객체가 선언될 때, 실행되는 가장 기본적인 것들이다.\n",
    "        #지금 다시 생각해보면 self는 이 함수, 변수가 할당이 되어야 할 객체인 것 같다. 다른 객체와 구별해주는 역할을 하는 듯 하다.\n",
    "        self.name=petname\n",
    "        self.temperature=temp\n",
    "    def status(self):\n",
    "        print(\"dog name is \" + self.name)\n",
    "        print(\"dog temperature is \"+ str(self.temperature))\n",
    "        print(\"\")\n",
    "        #pass  #pass 무엇? #있든 없든 잘만되네..\n",
    "    def setTemp(self,temp):\n",
    "        self.temperature= temp\n",
    "        pass\n",
    "    def walwal(self):\n",
    "        print(\"월월!!\")\n",
    "        pass\n",
    "pass"
   ]
  },
  {
   "cell_type": "code",
   "execution_count": 92,
   "metadata": {},
   "outputs": [],
   "source": [
    "dog_a= dog(\"멍멍이\",35)\n",
    "dog_b= dog(\"강아지\",36)\n",
    "dog_c= dog(\"별이\",37)\n",
    "dog_d= dog(\"초코\",38)"
   ]
  },
  {
   "cell_type": "code",
   "execution_count": 93,
   "metadata": {},
   "outputs": [
    {
     "name": "stdout",
     "output_type": "stream",
     "text": [
      "dog name is 멍멍이\n",
      "dog temperature is 35\n",
      "\n",
      "dog name is 강아지\n",
      "dog temperature is 36\n",
      "\n",
      "dog name is 별이\n",
      "dog temperature is 37\n",
      "\n",
      "dog name is 초코\n",
      "dog temperature is 38\n",
      "\n"
     ]
    }
   ],
   "source": [
    "dog_a.status()\n",
    "dog_b.status()\n",
    "dog_c.status()\n",
    "dog_d.status()"
   ]
  },
  {
   "cell_type": "code",
   "execution_count": 94,
   "metadata": {},
   "outputs": [],
   "source": [
    "dog_a.setTemp(28)\n",
    "dog_b.setTemp(29)\n",
    "dog_c.setTemp(30)\n",
    "dog_d.setTemp(31)"
   ]
  },
  {
   "cell_type": "code",
   "execution_count": 95,
   "metadata": {},
   "outputs": [
    {
     "name": "stdout",
     "output_type": "stream",
     "text": [
      "dog name is 멍멍이\n",
      "dog temperature is 28\n",
      "\n",
      "dog name is 강아지\n",
      "dog temperature is 29\n",
      "\n",
      "dog name is 별이\n",
      "dog temperature is 30\n",
      "\n",
      "dog name is 초코\n",
      "dog temperature is 31\n",
      "\n"
     ]
    }
   ],
   "source": [
    "dog_a.status()\n",
    "dog_b.status()\n",
    "dog_c.status()\n",
    "dog_d.status()"
   ]
  },
  {
   "cell_type": "code",
   "execution_count": null,
   "metadata": {},
   "outputs": [],
   "source": []
  }
 ],
 "metadata": {
  "kernelspec": {
   "display_name": "Python 3",
   "language": "python",
   "name": "python3"
  },
  "language_info": {
   "codemirror_mode": {
    "name": "ipython",
    "version": 3
   },
   "file_extension": ".py",
   "mimetype": "text/x-python",
   "name": "python",
   "nbconvert_exporter": "python",
   "pygments_lexer": "ipython3",
   "version": "3.8.10"
  }
 },
 "nbformat": 4,
 "nbformat_minor": 2
}
